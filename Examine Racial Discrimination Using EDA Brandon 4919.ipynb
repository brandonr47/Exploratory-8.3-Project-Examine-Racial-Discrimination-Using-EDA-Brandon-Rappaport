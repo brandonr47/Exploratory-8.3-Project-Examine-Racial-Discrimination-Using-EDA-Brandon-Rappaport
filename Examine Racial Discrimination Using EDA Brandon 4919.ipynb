{
 "cells": [
  {
   "cell_type": "markdown",
   "metadata": {},
   "source": [
    "# Examining Racial Discrimination in the US Job Market\n",
    "\n",
    "### Background\n",
    "Racial discrimination continues to be pervasive in cultures throughout the world. Researchers examined the level of racial discrimination in the United States labor market by randomly assigning identical résumés to black-sounding or white-sounding names and observing the impact on requests for interviews from employers.\n",
    "\n",
    "### Data\n",
    "In the dataset provided, each row represents a resume. The 'race' column has two values, 'b' and 'w', indicating black-sounding and white-sounding. The column 'call' has two values, 1 and 0, indicating whether the resume received a call from employers or not.\n",
    "\n",
    "Note that the 'b' and 'w' values in race are assigned randomly to the resumes when presented to the employer."
   ]
  },
  {
   "cell_type": "markdown",
   "metadata": {},
   "source": [
    "### Exercises\n",
    "You will perform a statistical analysis to establish whether race has a significant impact on the rate of callbacks for resumes.\n",
    "\n",
    "Answer the following questions **in this notebook below and submit to your Github account**. \n",
    "\n",
    "   1. What test is appropriate for this problem? Does CLT apply?\n",
    "   2. What are the null and alternate hypotheses?\n",
    "   3. Compute margin of error, confidence interval, and p-value. Try using both the bootstrapping and the frequentist statistical approaches.\n",
    "   4. Write a story describing the statistical significance in the context or the original problem.\n",
    "   5. Does your analysis mean that race/name is the most important factor in callback success? Why or why not? If not, how would you amend your analysis?\n",
    "\n",
    "You can include written notes in notebook cells using Markdown: \n",
    "   - In the control panel at the top, choose Cell > Cell Type > Markdown\n",
    "   - Markdown syntax: http://nestacms.com/docs/creating-content/markdown-cheat-sheet\n",
    "\n",
    "#### Resources\n",
    "+ Experiment information and data source: http://www.povertyactionlab.org/evaluation/discrimination-job-market-united-states\n",
    "+ Scipy statistical methods: http://docs.scipy.org/doc/scipy/reference/stats.html \n",
    "+ Markdown syntax: http://nestacms.com/docs/creating-content/markdown-cheat-sheet\n",
    "+ Formulas for the Bernoulli distribution: https://en.wikipedia.org/wiki/Bernoulli_distribution"
   ]
  },
  {
   "cell_type": "code",
   "execution_count": 18,
   "metadata": {},
   "outputs": [],
   "source": [
    "import pandas as pd\n",
    "import numpy as np\n",
    "from scipy import stats\n"
   ]
  },
  {
   "cell_type": "code",
   "execution_count": 3,
   "metadata": {},
   "outputs": [],
   "source": [
    "data = pd.io.stata.read_stata('data/us_job_market_discrimination.dta')"
   ]
  },
  {
   "cell_type": "code",
   "execution_count": 4,
   "metadata": {},
   "outputs": [
    {
     "name": "stdout",
     "output_type": "stream",
     "text": [
      "235.0\n"
     ]
    }
   ],
   "source": [
    "# number of callbacks for black-sounding names\n",
    "wcall=sum(data[data.race=='w'].call)\n",
    "bcall=sum(data[data.race=='b'].call)\n",
    "print(wcall)\n",
    "\n"
   ]
  },
  {
   "cell_type": "code",
   "execution_count": 21,
   "metadata": {},
   "outputs": [
    {
     "name": "stdout",
     "output_type": "stream",
     "text": [
      "0.09650924024640657\n",
      "0.06447638603696099\n",
      "157.0\n"
     ]
    }
   ],
   "source": [
    "w = data[data.race=='w']\n",
    "b = data[data.race=='b']\n",
    "\n",
    "\n",
    "wn=len(w)\n",
    "bn=len(b)\n",
    "\n",
    "wp=wcall/wn\n",
    "bp=bcall/bn\n",
    "\n",
    "print(wp)\n",
    "print(bp)\n",
    "print(bn*bp)\n",
    "#Greater than 5 and all 1-p combination or other p would be lower so all n*p are greater than 5. \n",
    "\n",
    "\n"
   ]
  },
  {
   "cell_type": "markdown",
   "metadata": {
    "collapsed": true
   },
   "source": [
    "<div class=\"span5 alert alert-success\">\n",
    "<p>because n>30 and 235 and 157 respectivly are less than 10% of total population CLT works here and we will thus use a 2 sample z sided test since t is used when n<30. H0 is that white rate-black rate=0 while HA is the white rate-black rate!=0</p>\n",
    "</div>\n"
   ]
  },
  {
   "cell_type": "code",
   "execution_count": 6,
   "metadata": {},
   "outputs": [],
   "source": [
    "w = data[data.race=='w']\n",
    "b = data[data.race=='b']"
   ]
  },
  {
   "cell_type": "code",
   "execution_count": 33,
   "metadata": {},
   "outputs": [
    {
     "name": "stdout",
     "output_type": "stream",
     "text": [
      "0.0\n",
      "[-0.02874743  0.02833676]\n",
      "0.02830203057266712\n"
     ]
    }
   ],
   "source": [
    "bootsize=9000\n",
    "bootrep=np.empty(2435*2)\n",
    "bootrep[0:2434]=1\n",
    "bootrep[2435:4879]=0\n",
    "bootdiff=np.empty(bootsize)\n",
    "for x in range(bootsize):\n",
    "   wrep=np.sum(np.random.choice(bootrep, size=wn))\n",
    "   brep=np.sum(np.random.choice(bootrep, size=bn))\n",
    "   bootdiff[x]=(wrep-brep)/2435\n",
    "bootp=np.sum(bootdiff>(wp/bp))/bootsize\n",
    "print(bootp) #Bootstrap P-Value\n",
    "bootci=np.percentile(bootdiff, [2.5,97.5])\n",
    "print(bootci) #Bootstrap Confidence Interval\n",
    "bootme=bootci[1]-np.mean(bootdiff)\n",
    "print(bootme) # Bootstrap Margin of Error\n",
    "\n"
   ]
  },
  {
   "cell_type": "code",
   "execution_count": 39,
   "metadata": {},
   "outputs": [
    {
     "name": "stdout",
     "output_type": "stream",
     "text": [
      "0.08049281314168377\n",
      "4.108412152434346 3.983886837585077e-05\n",
      "0.016777447859559147 0.047288260559332024\n",
      "0.015255406349886438\n"
     ]
    }
   ],
   "source": [
    "wp #phat white (1)\n",
    "bp #phat black (2)\n",
    "p=(wcall+bcall)/(wn+bn) #phat denominator \n",
    "print(p)\n",
    "\n",
    "ztest=(wp-bp-0)/np.sqrt(((p*(1-p))/wn)+((p*(1-p))/bn))\n",
    "\n",
    "freqp = stats.norm.sf(abs(ztest))*2\n",
    "print(ztest, freqp ) #Freq Ztest and P-Value\n",
    "\n",
    "chigh=(wp-bp)+1.96*(np.sqrt(((wp*(1-wp))/wn)+((bp*(1-bp))/bn)))\n",
    "clow=(wp-bp)-1.96*(np.sqrt(((wp*(1-wp))/wn)+((bp*(1-bp))/bn)))\n",
    "print(clow, chigh) #Freq Confidence Interval\n",
    "\n",
    "freqmoe=(chigh-clow)/2.0\n",
    "print(freqmoe) #Freq Margin of Error"
   ]
  },
  {
   "cell_type": "markdown",
   "metadata": {},
   "source": [
    "<div class=\"span5 alert alert-success\">\n",
    "<p> It is statistically significant under both models that white sounding names are more likely to receive a call back than black sounding names according to both models with p values significantly under the threshold of .05. No because its the only variable that we looked at while ignoring the other 30+ variables in the data set which could have cause more impacts.  </p>\n",
    "</div>"
   ]
  },
  {
   "cell_type": "code",
   "execution_count": null,
   "metadata": {},
   "outputs": [],
   "source": []
  },
  {
   "cell_type": "code",
   "execution_count": null,
   "metadata": {},
   "outputs": [],
   "source": []
  }
 ],
 "metadata": {
  "kernelspec": {
   "display_name": "Python 3",
   "language": "python",
   "name": "python3"
  },
  "language_info": {
   "codemirror_mode": {
    "name": "ipython",
    "version": 3
   },
   "file_extension": ".py",
   "mimetype": "text/x-python",
   "name": "python",
   "nbconvert_exporter": "python",
   "pygments_lexer": "ipython3",
   "version": "3.7.1"
  }
 },
 "nbformat": 4,
 "nbformat_minor": 1
}
